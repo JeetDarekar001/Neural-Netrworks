{
 "cells": [
  {
   "cell_type": "markdown",
   "id": "3d36f3f7",
   "metadata": {},
   "source": [
    "# Stock market prediction and forecasting using stacked LSTM"
   ]
  },
  {
   "cell_type": "code",
   "execution_count": 27,
   "id": "0e870db5",
   "metadata": {},
   "outputs": [],
   "source": [
    "# Libraries Keras and Tensorflow > 2.0\n",
    "# Datareader for \n",
    "import pandas_datareader as pdr\n",
    "import pandas as pd\n",
    "import matplotlib.pyplot as plt\n",
    "import numpy as np"
   ]
  },
  {
   "cell_type": "code",
   "execution_count": 6,
   "id": "383abcc2",
   "metadata": {},
   "outputs": [
    {
     "name": "stderr",
     "output_type": "stream",
     "text": [
      "D:\\Anaconda_doNotDelete\\lib\\site-packages\\pandas_datareader\\tiingo.py:234: FutureWarning: In a future version of pandas all arguments of concat except for the argument 'objs' will be keyword-only\n",
      "  return pd.concat(dfs, self._concat_axis)\n"
     ]
    }
   ],
   "source": [
    "df=pd.get_data_tiingo('FITB',api_key='Sample Key fetched from : https://www.tiingo.com/account/api/token')\n",
    "#df=pd.read_csv('AAPL.csv')"
   ]
  },
  {
   "cell_type": "code",
   "execution_count": 10,
   "id": "ea179de4",
   "metadata": {},
   "outputs": [],
   "source": [
    "df.to_csv('FITB.csv')"
   ]
  },
  {
   "cell_type": "code",
   "execution_count": 12,
   "id": "bf29da22",
   "metadata": {},
   "outputs": [
    {
     "data": {
      "text/html": [
       "<div>\n",
       "<style scoped>\n",
       "    .dataframe tbody tr th:only-of-type {\n",
       "        vertical-align: middle;\n",
       "    }\n",
       "\n",
       "    .dataframe tbody tr th {\n",
       "        vertical-align: top;\n",
       "    }\n",
       "\n",
       "    .dataframe thead th {\n",
       "        text-align: right;\n",
       "    }\n",
       "</style>\n",
       "<table border=\"1\" class=\"dataframe\">\n",
       "  <thead>\n",
       "    <tr style=\"text-align: right;\">\n",
       "      <th></th>\n",
       "      <th>symbol</th>\n",
       "      <th>date</th>\n",
       "      <th>close</th>\n",
       "      <th>high</th>\n",
       "      <th>low</th>\n",
       "      <th>open</th>\n",
       "      <th>volume</th>\n",
       "      <th>adjClose</th>\n",
       "      <th>adjHigh</th>\n",
       "      <th>adjLow</th>\n",
       "      <th>adjOpen</th>\n",
       "      <th>adjVolume</th>\n",
       "      <th>divCash</th>\n",
       "      <th>splitFactor</th>\n",
       "    </tr>\n",
       "  </thead>\n",
       "  <tbody>\n",
       "    <tr>\n",
       "      <th>0</th>\n",
       "      <td>FITB</td>\n",
       "      <td>2017-10-11 00:00:00+00:00</td>\n",
       "      <td>28.26</td>\n",
       "      <td>28.43</td>\n",
       "      <td>28.12</td>\n",
       "      <td>28.43</td>\n",
       "      <td>2797870</td>\n",
       "      <td>23.756624</td>\n",
       "      <td>23.899534</td>\n",
       "      <td>23.638934</td>\n",
       "      <td>23.899534</td>\n",
       "      <td>2797870</td>\n",
       "      <td>0.0</td>\n",
       "      <td>1.0</td>\n",
       "    </tr>\n",
       "    <tr>\n",
       "      <th>1</th>\n",
       "      <td>FITB</td>\n",
       "      <td>2017-10-12 00:00:00+00:00</td>\n",
       "      <td>28.15</td>\n",
       "      <td>28.41</td>\n",
       "      <td>28.01</td>\n",
       "      <td>28.41</td>\n",
       "      <td>5996125</td>\n",
       "      <td>23.664154</td>\n",
       "      <td>23.882721</td>\n",
       "      <td>23.546463</td>\n",
       "      <td>23.882721</td>\n",
       "      <td>5996125</td>\n",
       "      <td>0.0</td>\n",
       "      <td>1.0</td>\n",
       "    </tr>\n",
       "    <tr>\n",
       "      <th>2</th>\n",
       "      <td>FITB</td>\n",
       "      <td>2017-10-13 00:00:00+00:00</td>\n",
       "      <td>28.06</td>\n",
       "      <td>28.28</td>\n",
       "      <td>27.72</td>\n",
       "      <td>28.05</td>\n",
       "      <td>7055587</td>\n",
       "      <td>23.588495</td>\n",
       "      <td>23.773437</td>\n",
       "      <td>23.302676</td>\n",
       "      <td>23.580089</td>\n",
       "      <td>7055587</td>\n",
       "      <td>0.0</td>\n",
       "      <td>1.0</td>\n",
       "    </tr>\n",
       "    <tr>\n",
       "      <th>3</th>\n",
       "      <td>FITB</td>\n",
       "      <td>2017-10-16 00:00:00+00:00</td>\n",
       "      <td>28.37</td>\n",
       "      <td>28.37</td>\n",
       "      <td>28.01</td>\n",
       "      <td>28.01</td>\n",
       "      <td>3625951</td>\n",
       "      <td>23.849095</td>\n",
       "      <td>23.849095</td>\n",
       "      <td>23.546463</td>\n",
       "      <td>23.546463</td>\n",
       "      <td>3625951</td>\n",
       "      <td>0.0</td>\n",
       "      <td>1.0</td>\n",
       "    </tr>\n",
       "    <tr>\n",
       "      <th>4</th>\n",
       "      <td>FITB</td>\n",
       "      <td>2017-10-17 00:00:00+00:00</td>\n",
       "      <td>27.97</td>\n",
       "      <td>28.40</td>\n",
       "      <td>27.94</td>\n",
       "      <td>28.38</td>\n",
       "      <td>4485199</td>\n",
       "      <td>23.512837</td>\n",
       "      <td>23.874315</td>\n",
       "      <td>23.487618</td>\n",
       "      <td>23.857502</td>\n",
       "      <td>4485199</td>\n",
       "      <td>0.0</td>\n",
       "      <td>1.0</td>\n",
       "    </tr>\n",
       "  </tbody>\n",
       "</table>\n",
       "</div>"
      ],
      "text/plain": [
       "  symbol                       date  close   high    low   open   volume  \\\n",
       "0   FITB  2017-10-11 00:00:00+00:00  28.26  28.43  28.12  28.43  2797870   \n",
       "1   FITB  2017-10-12 00:00:00+00:00  28.15  28.41  28.01  28.41  5996125   \n",
       "2   FITB  2017-10-13 00:00:00+00:00  28.06  28.28  27.72  28.05  7055587   \n",
       "3   FITB  2017-10-16 00:00:00+00:00  28.37  28.37  28.01  28.01  3625951   \n",
       "4   FITB  2017-10-17 00:00:00+00:00  27.97  28.40  27.94  28.38  4485199   \n",
       "\n",
       "    adjClose    adjHigh     adjLow    adjOpen  adjVolume  divCash  splitFactor  \n",
       "0  23.756624  23.899534  23.638934  23.899534    2797870      0.0          1.0  \n",
       "1  23.664154  23.882721  23.546463  23.882721    5996125      0.0          1.0  \n",
       "2  23.588495  23.773437  23.302676  23.580089    7055587      0.0          1.0  \n",
       "3  23.849095  23.849095  23.546463  23.546463    3625951      0.0          1.0  \n",
       "4  23.512837  23.874315  23.487618  23.857502    4485199      0.0          1.0  "
      ]
     },
     "execution_count": 12,
     "metadata": {},
     "output_type": "execute_result"
    }
   ],
   "source": [
    "df=pd.read_csv('FITB.csv')\n",
    "df.head()"
   ]
  },
  {
   "cell_type": "code",
   "execution_count": 13,
   "id": "335528ac",
   "metadata": {},
   "outputs": [
    {
     "data": {
      "text/html": [
       "<div>\n",
       "<style scoped>\n",
       "    .dataframe tbody tr th:only-of-type {\n",
       "        vertical-align: middle;\n",
       "    }\n",
       "\n",
       "    .dataframe tbody tr th {\n",
       "        vertical-align: top;\n",
       "    }\n",
       "\n",
       "    .dataframe thead th {\n",
       "        text-align: right;\n",
       "    }\n",
       "</style>\n",
       "<table border=\"1\" class=\"dataframe\">\n",
       "  <thead>\n",
       "    <tr style=\"text-align: right;\">\n",
       "      <th></th>\n",
       "      <th>symbol</th>\n",
       "      <th>date</th>\n",
       "      <th>close</th>\n",
       "      <th>high</th>\n",
       "      <th>low</th>\n",
       "      <th>open</th>\n",
       "      <th>volume</th>\n",
       "      <th>adjClose</th>\n",
       "      <th>adjHigh</th>\n",
       "      <th>adjLow</th>\n",
       "      <th>adjOpen</th>\n",
       "      <th>adjVolume</th>\n",
       "      <th>divCash</th>\n",
       "      <th>splitFactor</th>\n",
       "    </tr>\n",
       "  </thead>\n",
       "  <tbody>\n",
       "    <tr>\n",
       "      <th>1252</th>\n",
       "      <td>FITB</td>\n",
       "      <td>2022-10-03 00:00:00+00:00</td>\n",
       "      <td>32.83</td>\n",
       "      <td>33.130</td>\n",
       "      <td>31.790</td>\n",
       "      <td>32.50</td>\n",
       "      <td>4744880</td>\n",
       "      <td>32.83</td>\n",
       "      <td>33.130</td>\n",
       "      <td>31.790</td>\n",
       "      <td>32.50</td>\n",
       "      <td>4744880</td>\n",
       "      <td>0.0</td>\n",
       "      <td>1.0</td>\n",
       "    </tr>\n",
       "    <tr>\n",
       "      <th>1253</th>\n",
       "      <td>FITB</td>\n",
       "      <td>2022-10-04 00:00:00+00:00</td>\n",
       "      <td>34.30</td>\n",
       "      <td>34.310</td>\n",
       "      <td>33.280</td>\n",
       "      <td>33.30</td>\n",
       "      <td>4368307</td>\n",
       "      <td>34.30</td>\n",
       "      <td>34.310</td>\n",
       "      <td>33.280</td>\n",
       "      <td>33.30</td>\n",
       "      <td>4368307</td>\n",
       "      <td>0.0</td>\n",
       "      <td>1.0</td>\n",
       "    </tr>\n",
       "    <tr>\n",
       "      <th>1254</th>\n",
       "      <td>FITB</td>\n",
       "      <td>2022-10-05 00:00:00+00:00</td>\n",
       "      <td>34.10</td>\n",
       "      <td>34.235</td>\n",
       "      <td>33.480</td>\n",
       "      <td>33.60</td>\n",
       "      <td>2853565</td>\n",
       "      <td>34.10</td>\n",
       "      <td>34.235</td>\n",
       "      <td>33.480</td>\n",
       "      <td>33.60</td>\n",
       "      <td>2853565</td>\n",
       "      <td>0.0</td>\n",
       "      <td>1.0</td>\n",
       "    </tr>\n",
       "    <tr>\n",
       "      <th>1255</th>\n",
       "      <td>FITB</td>\n",
       "      <td>2022-10-06 00:00:00+00:00</td>\n",
       "      <td>33.53</td>\n",
       "      <td>34.160</td>\n",
       "      <td>33.325</td>\n",
       "      <td>33.80</td>\n",
       "      <td>6097908</td>\n",
       "      <td>33.53</td>\n",
       "      <td>34.160</td>\n",
       "      <td>33.325</td>\n",
       "      <td>33.80</td>\n",
       "      <td>6097908</td>\n",
       "      <td>0.0</td>\n",
       "      <td>1.0</td>\n",
       "    </tr>\n",
       "    <tr>\n",
       "      <th>1256</th>\n",
       "      <td>FITB</td>\n",
       "      <td>2022-10-07 00:00:00+00:00</td>\n",
       "      <td>33.10</td>\n",
       "      <td>33.270</td>\n",
       "      <td>32.355</td>\n",
       "      <td>33.21</td>\n",
       "      <td>3891114</td>\n",
       "      <td>33.10</td>\n",
       "      <td>33.270</td>\n",
       "      <td>32.355</td>\n",
       "      <td>33.21</td>\n",
       "      <td>3891114</td>\n",
       "      <td>0.0</td>\n",
       "      <td>1.0</td>\n",
       "    </tr>\n",
       "  </tbody>\n",
       "</table>\n",
       "</div>"
      ],
      "text/plain": [
       "     symbol                       date  close    high     low   open   volume  \\\n",
       "1252   FITB  2022-10-03 00:00:00+00:00  32.83  33.130  31.790  32.50  4744880   \n",
       "1253   FITB  2022-10-04 00:00:00+00:00  34.30  34.310  33.280  33.30  4368307   \n",
       "1254   FITB  2022-10-05 00:00:00+00:00  34.10  34.235  33.480  33.60  2853565   \n",
       "1255   FITB  2022-10-06 00:00:00+00:00  33.53  34.160  33.325  33.80  6097908   \n",
       "1256   FITB  2022-10-07 00:00:00+00:00  33.10  33.270  32.355  33.21  3891114   \n",
       "\n",
       "      adjClose  adjHigh  adjLow  adjOpen  adjVolume  divCash  splitFactor  \n",
       "1252     32.83   33.130  31.790    32.50    4744880      0.0          1.0  \n",
       "1253     34.30   34.310  33.280    33.30    4368307      0.0          1.0  \n",
       "1254     34.10   34.235  33.480    33.60    2853565      0.0          1.0  \n",
       "1255     33.53   34.160  33.325    33.80    6097908      0.0          1.0  \n",
       "1256     33.10   33.270  32.355    33.21    3891114      0.0          1.0  "
      ]
     },
     "execution_count": 13,
     "metadata": {},
     "output_type": "execute_result"
    }
   ],
   "source": [
    "df.tail()"
   ]
  },
  {
   "cell_type": "markdown",
   "id": "f4ed6361",
   "metadata": {},
   "source": [
    "We are using stock price of Fifth third Bank (FITB) for model creation.\n",
    "\n",
    "As the data contains stock price from Oct-2017 to Oct-2022.(5 Years)"
   ]
  },
  {
   "cell_type": "markdown",
   "id": "8439238a",
   "metadata": {},
   "source": [
    "###### Here the required column is 'Close'"
   ]
  },
  {
   "cell_type": "code",
   "execution_count": 49,
   "id": "caa779b1",
   "metadata": {},
   "outputs": [],
   "source": [
    "df_close=df.reset_index()['close']"
   ]
  },
  {
   "cell_type": "code",
   "execution_count": 50,
   "id": "68c2b545",
   "metadata": {},
   "outputs": [
    {
     "data": {
      "text/plain": [
       "0       28.26\n",
       "1       28.15\n",
       "2       28.06\n",
       "3       28.37\n",
       "4       27.97\n",
       "        ...  \n",
       "1252    32.83\n",
       "1253    34.30\n",
       "1254    34.10\n",
       "1255    33.53\n",
       "1256    33.10\n",
       "Name: close, Length: 1257, dtype: float64"
      ]
     },
     "execution_count": 50,
     "metadata": {},
     "output_type": "execute_result"
    }
   ],
   "source": [
    "#df_close.drop('index',inplace=True)\n",
    "df_close"
   ]
  },
  {
   "cell_type": "code",
   "execution_count": 51,
   "id": "a2b8a486",
   "metadata": {},
   "outputs": [
    {
     "data": {
      "text/plain": [
       "[<matplotlib.lines.Line2D at 0x1b128ce9970>]"
      ]
     },
     "execution_count": 51,
     "metadata": {},
     "output_type": "execute_result"
    },
    {
     "data": {
      "image/png": "[encoded data removed]",
      "text/plain": [
       "<Figure size 432x288 with 1 Axes>"
      ]
     },
     "metadata": {
      "needs_background": "light"
     },
     "output_type": "display_data"
    }
   ],
   "source": [
    "# Plotting the data for close for the stock.\n",
    "plt.plot(df_close)"
   ]
  },
  {
   "cell_type": "raw",
   "id": "0c52483c",
   "metadata": {},
   "source": [
    "# LSTM are very senstive to scale of the data.\n",
    "# so we apply minmax scalarm"
   ]
  },
  {
   "cell_type": "code",
   "execution_count": 41,
   "id": "0096be1f",
   "metadata": {},
   "outputs": [],
   "source": [
    "from sklearn.preprocessing import MinMaxScaler"
   ]
  },
  {
   "cell_type": "code",
   "execution_count": 57,
   "id": "98410c05",
   "metadata": {},
   "outputs": [],
   "source": [
    "scalar=MinMaxScaler()\n",
    "df_close=scalar.fit_transform(np.array(df_close).reshape(-1,1))"
   ]
  },
  {
   "cell_type": "code",
   "execution_count": 58,
   "id": "e4989d4a",
   "metadata": {},
   "outputs": [
    {
     "data": {
      "text/plain": [
       "(array([[0.42779783],\n",
       "        [0.42496132],\n",
       "        [0.42264054],\n",
       "        ...,\n",
       "        [0.57839092],\n",
       "        [0.56369263],\n",
       "        [0.55260444]]),\n",
       " (1257, 1))"
      ]
     },
     "execution_count": 58,
     "metadata": {},
     "output_type": "execute_result"
    }
   ],
   "source": [
    "df_close,df_close.shape"
   ]
  },
  {
   "cell_type": "markdown",
   "id": "f9d8369c",
   "metadata": {},
   "source": [
    "We have normalized the data between 0 and 1 .\n",
    "\n",
    "We are using reshape(-1,1) becuase when are performing fit_transform on one column(feature) as fit_transform requires two columns."
   ]
  },
  {
   "cell_type": "code",
   "execution_count": 60,
   "id": "e4a3279b",
   "metadata": {},
   "outputs": [
    {
     "data": {
      "text/plain": [
       "[<matplotlib.lines.Line2D at 0x1b129ba08e0>]"
      ]
     },
     "execution_count": 60,
     "metadata": {},
     "output_type": "execute_result"
    },
    {
     "data": {
      "image/png": "[encoded data removed]",
      "text/plain": [
       "<Figure size 432x288 with 1 Axes>"
      ]
     },
     "metadata": {
      "needs_background": "light"
     },
     "output_type": "display_data"
    }
   ],
   "source": [
    "# Plotting the data for close for the stock.\n",
    "plt.plot(df_close)"
   ]
  },
  {
   "cell_type": "markdown",
   "id": "434cc4b3",
   "metadata": {},
   "source": [
    "The Y-Axis of grpah is between 0 to 1"
   ]
  },
  {
   "cell_type": "markdown",
   "id": "3a00142c",
   "metadata": {},
   "source": [
    "# Things to remember when dealing with time-series data.\n",
    "\n",
    "1. During the train test split we can use cross-validation , and random seed.\n",
    "These work well in Linear Regression or Classification.\n",
    "\n",
    "In case of classification we need to divide the data in differnet method.\n",
    "    a. IN our training data 70% of intital data shoudl be ordered on date's.\n",
    "        Ex . day 1 -> Day2 and Day6 -> dDay 7\n",
    "        \n",
    "    As next data is always dependent on privous day"
   ]
  },
  {
   "cell_type": "code",
   "execution_count": 63,
   "id": "740132b1",
   "metadata": {},
   "outputs": [],
   "source": [
    "# Splitting the dataset on percentage as all the data is in series.\n",
    "\n",
    "training_size=int(len(df_close)*0.65)\n",
    "test_size=len(df)-training_size\n",
    "\n",
    "train_data,test_data=df_close[0:training_size,:],df_close[training_size:len(df_close),:1]"
   ]
  },
  {
   "cell_type": "raw",
   "id": "19cc409f",
   "metadata": {},
   "source": [
    "Creating dataset\n",
    "To compute next day's output , we can take time steps such as dependent days.\n",
    "Example timestamp=3 (last three days)\n",
    " \n",
    "f1  f2  f3  o/p\n",
    "120 135 125 140\n",
    "130 ....    170\n",
    "\n",
    "considerding \n",
    "f1,f2,f3 as X_train &\n",
    "o/p as y_train.\n",
    "\n",
    "Even for test data, if we considered the same scenrio.\n",
    "then test_data can be broken down to X_test and y_test values.\n",
    "\n"
   ]
  },
  {
   "cell_type": "code",
   "execution_count": 81,
   "id": "83e50928",
   "metadata": {},
   "outputs": [],
   "source": [
    "def create_data(dataset,timestamp=1):\n",
    "    # timestamp = 1, here we consided only 1 day data as traiing data for current day.\n",
    "    dataX,dataY=[],[]\n",
    "    for i in range(len(dataset)-timestamp-1):\n",
    "        a=dataset[i:(i+timestamp),0]\n",
    "        dataX.append(a)\n",
    "        dataY.append(dataset[i+timestamp,0])\n",
    "    return np.array(dataX),np.array(dataY)"
   ]
  },
  {
   "cell_type": "code",
   "execution_count": 84,
   "id": "dd4decc8",
   "metadata": {},
   "outputs": [],
   "source": [
    "time_step=100\n",
    "\n",
    "X_train,y_train=create_data(train_data,time_step)\n",
    "X_test,y_test=create_data(test_data,timestamp=time_step)"
   ]
  },
  {
   "cell_type": "code",
   "execution_count": 88,
   "id": "26f20253",
   "metadata": {},
   "outputs": [
    {
     "data": {
      "text/plain": [
       "((339, 100), (339,))"
      ]
     },
     "execution_count": 88,
     "metadata": {},
     "output_type": "execute_result"
    }
   ],
   "source": [
    "X_test.shape,y_test.shape"
   ]
  },
  {
   "cell_type": "code",
   "execution_count": 92,
   "id": "c22363aa",
   "metadata": {},
   "outputs": [],
   "source": [
    "#Building a model\n",
    "\n",
    "from tensorflow.keras.models import Sequential\n",
    "from tensorflow.keras.layers import LSTM,Dense\n"
   ]
  },
  {
   "cell_type": "code",
   "execution_count": 99,
   "id": "9a53e0b5",
   "metadata": {},
   "outputs": [],
   "source": [
    "model=Sequential(name=\"Abhijit\")\n",
    "model.add(LSTM(50,return_sequences=True,input_shape=(100,1)))\n",
    "model.add(LSTM(50,return_sequences=True))\n",
    "model.add(LSTM(50))\n",
    "model.add(Dense(1))\n",
    "model.compile(optimizer='adam',loss='mean_squared_error',metrics=['accuracy'])"
   ]
  },
  {
   "cell_type": "code",
   "execution_count": 101,
   "id": "58c1bd02",
   "metadata": {},
   "outputs": [
    {
     "name": "stdout",
     "output_type": "stream",
     "text": [
      "Model: \"Abhijit\"\n",
      "_________________________________________________________________\n",
      " Layer (type)                Output Shape              Param #   \n",
      "=================================================================\n",
      " lstm_12 (LSTM)              (None, 100, 50)           10400     \n",
      "                                                                 \n",
      " lstm_13 (LSTM)              (None, 100, 50)           20200     \n",
      "                                                                 \n",
      " lstm_14 (LSTM)              (None, 50)                20200     \n",
      "                                                                 \n",
      " dense_4 (Dense)             (None, 1)                 51        \n",
      "                                                                 \n",
      "=================================================================\n",
      "Total params: 50,851\n",
      "Trainable params: 50,851\n",
      "Non-trainable params: 0\n",
      "_________________________________________________________________\n",
      "None\n"
     ]
    }
   ],
   "source": [
    "print(model.summary())"
   ]
  },
  {
   "cell_type": "code",
   "execution_count": 102,
   "id": "6a2913e4",
   "metadata": {},
   "outputs": [
    {
     "name": "stdout",
     "output_type": "stream",
     "text": [
      "Epoch 1/100\n",
      "12/12 [==============================] - 10s 425ms/step - loss: 0.0486 - accuracy: 0.0014 - val_loss: 0.0519 - val_accuracy: 0.0029\n",
      "Epoch 2/100\n",
      "12/12 [==============================] - 3s 266ms/step - loss: 0.0083 - accuracy: 0.0014 - val_loss: 0.0083 - val_accuracy: 0.0029\n",
      "Epoch 3/100\n",
      "12/12 [==============================] - 3s 220ms/step - loss: 0.0053 - accuracy: 0.0014 - val_loss: 0.0377 - val_accuracy: 0.0029\n",
      "Epoch 4/100\n",
      "12/12 [==============================] - 3s 225ms/step - loss: 0.0037 - accuracy: 0.0014 - val_loss: 0.0144 - val_accuracy: 0.0029\n",
      "Epoch 5/100\n",
      "12/12 [==============================] - 3s 238ms/step - loss: 0.0032 - accuracy: 0.0014 - val_loss: 0.0109 - val_accuracy: 0.0029\n",
      "Epoch 6/100\n",
      "12/12 [==============================] - 3s 245ms/step - loss: 0.0029 - accuracy: 0.0014 - val_loss: 0.0127 - val_accuracy: 0.0029\n",
      "Epoch 7/100\n",
      "12/12 [==============================] - 3s 225ms/step - loss: 0.0026 - accuracy: 0.0014 - val_loss: 0.0058 - val_accuracy: 0.0029\n",
      "Epoch 8/100\n",
      "12/12 [==============================] - 3s 227ms/step - loss: 0.0024 - accuracy: 0.0014 - val_loss: 0.0047 - val_accuracy: 0.0029\n",
      "Epoch 9/100\n",
      "12/12 [==============================] - 3s 247ms/step - loss: 0.0023 - accuracy: 0.0014 - val_loss: 0.0045 - val_accuracy: 0.0029\n",
      "Epoch 10/100\n",
      "12/12 [==============================] - 3s 256ms/step - loss: 0.0023 - accuracy: 0.0014 - val_loss: 0.0032 - val_accuracy: 0.0029\n",
      "Epoch 11/100\n",
      "12/12 [==============================] - 3s 238ms/step - loss: 0.0022 - accuracy: 0.0014 - val_loss: 0.0031 - val_accuracy: 0.0029\n",
      "Epoch 12/100\n",
      "12/12 [==============================] - 3s 256ms/step - loss: 0.0021 - accuracy: 0.0014 - val_loss: 0.0028 - val_accuracy: 0.0029\n",
      "Epoch 13/100\n",
      "12/12 [==============================] - 3s 250ms/step - loss: 0.0021 - accuracy: 0.0014 - val_loss: 0.0029 - val_accuracy: 0.0029\n",
      "Epoch 14/100\n",
      "12/12 [==============================] - 3s 263ms/step - loss: 0.0020 - accuracy: 0.0014 - val_loss: 0.0062 - val_accuracy: 0.0029\n",
      "Epoch 15/100\n",
      "12/12 [==============================] - 3s 249ms/step - loss: 0.0021 - accuracy: 0.0014 - val_loss: 0.0048 - val_accuracy: 0.0029\n",
      "Epoch 16/100\n",
      "12/12 [==============================] - 3s 250ms/step - loss: 0.0021 - accuracy: 0.0014 - val_loss: 0.0025 - val_accuracy: 0.0029\n",
      "Epoch 17/100\n",
      "12/12 [==============================] - 3s 243ms/step - loss: 0.0020 - accuracy: 0.0014 - val_loss: 0.0025 - val_accuracy: 0.0029\n",
      "Epoch 18/100\n",
      "12/12 [==============================] - 3s 230ms/step - loss: 0.0018 - accuracy: 0.0014 - val_loss: 0.0031 - val_accuracy: 0.0029\n",
      "Epoch 19/100\n",
      "12/12 [==============================] - 3s 247ms/step - loss: 0.0018 - accuracy: 0.0014 - val_loss: 0.0026 - val_accuracy: 0.0029\n",
      "Epoch 20/100\n",
      "12/12 [==============================] - 3s 264ms/step - loss: 0.0016 - accuracy: 0.0014 - val_loss: 0.0029 - val_accuracy: 0.0029\n",
      "Epoch 21/100\n",
      "12/12 [==============================] - 3s 234ms/step - loss: 0.0016 - accuracy: 0.0014 - val_loss: 0.0035 - val_accuracy: 0.0029\n",
      "Epoch 22/100\n",
      "12/12 [==============================] - 3s 243ms/step - loss: 0.0016 - accuracy: 0.0014 - val_loss: 0.0028 - val_accuracy: 0.0029\n",
      "Epoch 23/100\n",
      "12/12 [==============================] - 3s 230ms/step - loss: 0.0015 - accuracy: 0.0014 - val_loss: 0.0028 - val_accuracy: 0.0029\n",
      "Epoch 24/100\n",
      "12/12 [==============================] - 3s 238ms/step - loss: 0.0014 - accuracy: 0.0014 - val_loss: 0.0033 - val_accuracy: 0.0029\n",
      "Epoch 25/100\n",
      "12/12 [==============================] - 3s 248ms/step - loss: 0.0014 - accuracy: 0.0014 - val_loss: 0.0043 - val_accuracy: 0.0029\n",
      "Epoch 26/100\n",
      "12/12 [==============================] - 3s 247ms/step - loss: 0.0013 - accuracy: 0.0014 - val_loss: 0.0030 - val_accuracy: 0.0029\n",
      "Epoch 27/100\n",
      "12/12 [==============================] - 3s 246ms/step - loss: 0.0013 - accuracy: 0.0014 - val_loss: 0.0072 - val_accuracy: 0.0029\n",
      "Epoch 28/100\n",
      "12/12 [==============================] - 3s 251ms/step - loss: 0.0013 - accuracy: 0.0014 - val_loss: 0.0033 - val_accuracy: 0.0029\n",
      "Epoch 29/100\n",
      "12/12 [==============================] - 3s 229ms/step - loss: 0.0012 - accuracy: 0.0014 - val_loss: 0.0054 - val_accuracy: 0.0029\n",
      "Epoch 30/100\n",
      "12/12 [==============================] - 3s 229ms/step - loss: 0.0013 - accuracy: 0.0014 - val_loss: 0.0033 - val_accuracy: 0.0029\n",
      "Epoch 31/100\n",
      "12/12 [==============================] - 3s 232ms/step - loss: 0.0012 - accuracy: 0.0014 - val_loss: 0.0033 - val_accuracy: 0.0029\n",
      "Epoch 32/100\n",
      "12/12 [==============================] - 3s 226ms/step - loss: 0.0011 - accuracy: 0.0014 - val_loss: 0.0030 - val_accuracy: 0.0029\n",
      "Epoch 33/100\n",
      "12/12 [==============================] - 3s 223ms/step - loss: 0.0011 - accuracy: 0.0014 - val_loss: 0.0037 - val_accuracy: 0.0029\n",
      "Epoch 34/100\n",
      "12/12 [==============================] - 3s 224ms/step - loss: 0.0010 - accuracy: 0.0014 - val_loss: 0.0117 - val_accuracy: 0.0029\n",
      "Epoch 35/100\n",
      "12/12 [==============================] - 3s 229ms/step - loss: 0.0014 - accuracy: 0.0014 - val_loss: 0.0046 - val_accuracy: 0.0029\n",
      "Epoch 36/100\n",
      "12/12 [==============================] - 3s 223ms/step - loss: 0.0013 - accuracy: 0.0014 - val_loss: 0.0033 - val_accuracy: 0.0029\n",
      "Epoch 37/100\n",
      "12/12 [==============================] - 3s 225ms/step - loss: 0.0010 - accuracy: 0.0014 - val_loss: 0.0026 - val_accuracy: 0.0029\n",
      "Epoch 38/100\n",
      "12/12 [==============================] - 3s 219ms/step - loss: 0.0010 - accuracy: 0.0014 - val_loss: 0.0068 - val_accuracy: 0.0029\n",
      "Epoch 39/100\n",
      "12/12 [==============================] - 3s 228ms/step - loss: 0.0013 - accuracy: 0.0014 - val_loss: 0.0027 - val_accuracy: 0.0029\n",
      "Epoch 40/100\n",
      "12/12 [==============================] - 3s 243ms/step - loss: 0.0010 - accuracy: 0.0014 - val_loss: 0.0025 - val_accuracy: 0.0029\n",
      "Epoch 41/100\n",
      "12/12 [==============================] - 3s 246ms/step - loss: 9.2829e-04 - accuracy: 0.0014 - val_loss: 0.0026 - val_accuracy: 0.0029\n",
      "Epoch 42/100\n",
      "12/12 [==============================] - 3s 249ms/step - loss: 9.3026e-04 - accuracy: 0.0014 - val_loss: 0.0029 - val_accuracy: 0.0029\n",
      "Epoch 43/100\n",
      "12/12 [==============================] - 3s 266ms/step - loss: 0.0010 - accuracy: 0.0014 - val_loss: 0.0039 - val_accuracy: 0.0029\n",
      "Epoch 44/100\n",
      "12/12 [==============================] - 4s 305ms/step - loss: 8.8515e-04 - accuracy: 0.0014 - val_loss: 0.0032 - val_accuracy: 0.0029\n",
      "Epoch 45/100\n",
      "12/12 [==============================] - 4s 314ms/step - loss: 8.9872e-04 - accuracy: 0.0014 - val_loss: 0.0083 - val_accuracy: 0.0029\n",
      "Epoch 46/100\n",
      "12/12 [==============================] - 4s 322ms/step - loss: 9.8621e-04 - accuracy: 0.0014 - val_loss: 0.0035 - val_accuracy: 0.0029\n",
      "Epoch 47/100\n",
      "12/12 [==============================] - 4s 348ms/step - loss: 8.6579e-04 - accuracy: 0.0014 - val_loss: 0.0045 - val_accuracy: 0.0029\n",
      "Epoch 48/100\n",
      "12/12 [==============================] - 4s 316ms/step - loss: 8.8285e-04 - accuracy: 0.0014 - val_loss: 0.0045 - val_accuracy: 0.0029\n",
      "Epoch 49/100\n",
      "12/12 [==============================] - 3s 295ms/step - loss: 8.8561e-04 - accuracy: 0.0014 - val_loss: 0.0033 - val_accuracy: 0.0029\n",
      "Epoch 50/100\n",
      "12/12 [==============================] - 3s 267ms/step - loss: 8.4639e-04 - accuracy: 0.0014 - val_loss: 0.0070 - val_accuracy: 0.0029\n",
      "Epoch 51/100\n",
      "12/12 [==============================] - 3s 266ms/step - loss: 9.2029e-04 - accuracy: 0.0014 - val_loss: 0.0033 - val_accuracy: 0.0029\n",
      "Epoch 52/100\n",
      "12/12 [==============================] - 3s 274ms/step - loss: 8.1828e-04 - accuracy: 0.0014 - val_loss: 0.0049 - val_accuracy: 0.0029\n",
      "Epoch 53/100\n",
      "12/12 [==============================] - 3s 259ms/step - loss: 8.1704e-04 - accuracy: 0.0014 - val_loss: 0.0044 - val_accuracy: 0.0029\n",
      "Epoch 54/100\n",
      "12/12 [==============================] - 3s 258ms/step - loss: 8.1954e-04 - accuracy: 0.0014 - val_loss: 0.0042 - val_accuracy: 0.0029\n",
      "Epoch 55/100\n",
      "12/12 [==============================] - 3s 259ms/step - loss: 8.2229e-04 - accuracy: 0.0014 - val_loss: 0.0059 - val_accuracy: 0.0029\n",
      "Epoch 56/100\n",
      "12/12 [==============================] - 3s 259ms/step - loss: 7.7980e-04 - accuracy: 0.0014 - val_loss: 0.0046 - val_accuracy: 0.0029\n",
      "Epoch 57/100\n"
     ]
    },
    {
     "name": "stdout",
     "output_type": "stream",
     "text": [
      "12/12 [==============================] - 3s 258ms/step - loss: 7.8452e-04 - accuracy: 0.0014 - val_loss: 0.0058 - val_accuracy: 0.0029\n",
      "Epoch 58/100\n",
      "12/12 [==============================] - 3s 258ms/step - loss: 7.7454e-04 - accuracy: 0.0014 - val_loss: 0.0088 - val_accuracy: 0.0029\n",
      "Epoch 59/100\n",
      "12/12 [==============================] - 3s 256ms/step - loss: 7.5381e-04 - accuracy: 0.0014 - val_loss: 0.0062 - val_accuracy: 0.0029\n",
      "Epoch 60/100\n",
      "12/12 [==============================] - 3s 283ms/step - loss: 7.8397e-04 - accuracy: 0.0014 - val_loss: 0.0060 - val_accuracy: 0.0029\n",
      "Epoch 61/100\n",
      "12/12 [==============================] - 4s 308ms/step - loss: 7.4468e-04 - accuracy: 0.0014 - val_loss: 0.0072 - val_accuracy: 0.0029\n",
      "Epoch 62/100\n",
      "12/12 [==============================] - 3s 278ms/step - loss: 7.8352e-04 - accuracy: 0.0014 - val_loss: 0.0054 - val_accuracy: 0.0029\n",
      "Epoch 63/100\n",
      "12/12 [==============================] - 3s 285ms/step - loss: 7.7018e-04 - accuracy: 0.0014 - val_loss: 0.0029 - val_accuracy: 0.0029\n",
      "Epoch 64/100\n",
      "12/12 [==============================] - 4s 310ms/step - loss: 7.9451e-04 - accuracy: 0.0014 - val_loss: 0.0025 - val_accuracy: 0.0029\n",
      "Epoch 65/100\n",
      "12/12 [==============================] - 3s 279ms/step - loss: 9.0983e-04 - accuracy: 0.0014 - val_loss: 0.0030 - val_accuracy: 0.0029\n",
      "Epoch 66/100\n",
      "12/12 [==============================] - 3s 284ms/step - loss: 8.4439e-04 - accuracy: 0.0014 - val_loss: 0.0066 - val_accuracy: 0.0029\n",
      "Epoch 67/100\n",
      "12/12 [==============================] - 4s 348ms/step - loss: 7.9590e-04 - accuracy: 0.0014 - val_loss: 0.0039 - val_accuracy: 0.0029\n",
      "Epoch 68/100\n",
      "12/12 [==============================] - 4s 307ms/step - loss: 7.2653e-04 - accuracy: 0.0014 - val_loss: 0.0070 - val_accuracy: 0.0029\n",
      "Epoch 69/100\n",
      "12/12 [==============================] - 3s 293ms/step - loss: 7.2858e-04 - accuracy: 0.0014 - val_loss: 0.0028 - val_accuracy: 0.0029\n",
      "Epoch 70/100\n",
      "12/12 [==============================] - 4s 327ms/step - loss: 7.0036e-04 - accuracy: 0.0014 - val_loss: 0.0039 - val_accuracy: 0.0029\n",
      "Epoch 71/100\n",
      "12/12 [==============================] - 3s 277ms/step - loss: 6.7703e-04 - accuracy: 0.0014 - val_loss: 0.0027 - val_accuracy: 0.0029\n",
      "Epoch 72/100\n",
      "12/12 [==============================] - 3s 255ms/step - loss: 7.7106e-04 - accuracy: 0.0014 - val_loss: 0.0020 - val_accuracy: 0.0029\n",
      "Epoch 73/100\n",
      "12/12 [==============================] - 4s 318ms/step - loss: 7.3992e-04 - accuracy: 0.0014 - val_loss: 0.0027 - val_accuracy: 0.0029\n",
      "Epoch 74/100\n",
      "12/12 [==============================] - 3s 246ms/step - loss: 6.3804e-04 - accuracy: 0.0014 - val_loss: 0.0033 - val_accuracy: 0.0029\n",
      "Epoch 75/100\n",
      "12/12 [==============================] - 3s 253ms/step - loss: 6.3278e-04 - accuracy: 0.0014 - val_loss: 0.0049 - val_accuracy: 0.0029\n",
      "Epoch 76/100\n",
      "12/12 [==============================] - 3s 297ms/step - loss: 6.6072e-04 - accuracy: 0.0014 - val_loss: 0.0047 - val_accuracy: 0.0029\n",
      "Epoch 77/100\n",
      "12/12 [==============================] - 3s 280ms/step - loss: 6.8759e-04 - accuracy: 0.0014 - val_loss: 0.0074 - val_accuracy: 0.0029\n",
      "Epoch 78/100\n",
      "12/12 [==============================] - 3s 289ms/step - loss: 7.7985e-04 - accuracy: 0.0014 - val_loss: 0.0104 - val_accuracy: 0.0029\n",
      "Epoch 79/100\n",
      "12/12 [==============================] - 4s 302ms/step - loss: 8.6107e-04 - accuracy: 0.0014 - val_loss: 0.0044 - val_accuracy: 0.0029\n",
      "Epoch 80/100\n",
      "12/12 [==============================] - 3s 279ms/step - loss: 8.1055e-04 - accuracy: 0.0014 - val_loss: 0.0014 - val_accuracy: 0.0029\n",
      "Epoch 81/100\n",
      "12/12 [==============================] - 3s 267ms/step - loss: 6.5362e-04 - accuracy: 0.0014 - val_loss: 0.0024 - val_accuracy: 0.0029\n",
      "Epoch 82/100\n",
      "12/12 [==============================] - 3s 271ms/step - loss: 6.1605e-04 - accuracy: 0.0014 - val_loss: 0.0045 - val_accuracy: 0.0029\n",
      "Epoch 83/100\n",
      "12/12 [==============================] - 3s 295ms/step - loss: 6.2477e-04 - accuracy: 0.0014 - val_loss: 0.0027 - val_accuracy: 0.0029\n",
      "Epoch 84/100\n",
      "12/12 [==============================] - 3s 269ms/step - loss: 6.2580e-04 - accuracy: 0.0014 - val_loss: 0.0020 - val_accuracy: 0.0029\n",
      "Epoch 85/100\n",
      "12/12 [==============================] - 3s 272ms/step - loss: 6.7564e-04 - accuracy: 0.0014 - val_loss: 0.0032 - val_accuracy: 0.0029\n",
      "Epoch 86/100\n",
      "12/12 [==============================] - 3s 264ms/step - loss: 7.2313e-04 - accuracy: 0.0014 - val_loss: 0.0039 - val_accuracy: 0.0029\n",
      "Epoch 87/100\n",
      "12/12 [==============================] - 3s 270ms/step - loss: 6.3533e-04 - accuracy: 0.0014 - val_loss: 0.0045 - val_accuracy: 0.0029\n",
      "Epoch 88/100\n",
      "12/12 [==============================] - 3s 259ms/step - loss: 6.8584e-04 - accuracy: 0.0014 - val_loss: 0.0037 - val_accuracy: 0.0029\n",
      "Epoch 89/100\n",
      "12/12 [==============================] - 3s 256ms/step - loss: 6.9933e-04 - accuracy: 0.0014 - val_loss: 0.0013 - val_accuracy: 0.0029\n",
      "Epoch 90/100\n",
      "12/12 [==============================] - 3s 269ms/step - loss: 5.7639e-04 - accuracy: 0.0014 - val_loss: 0.0035 - val_accuracy: 0.0029\n",
      "Epoch 91/100\n",
      "12/12 [==============================] - 3s 250ms/step - loss: 5.5822e-04 - accuracy: 0.0014 - val_loss: 0.0038 - val_accuracy: 0.0029\n",
      "Epoch 92/100\n",
      "12/12 [==============================] - 3s 256ms/step - loss: 5.4658e-04 - accuracy: 0.0014 - val_loss: 0.0038 - val_accuracy: 0.0029\n",
      "Epoch 93/100\n",
      "12/12 [==============================] - 3s 249ms/step - loss: 5.5178e-04 - accuracy: 0.0014 - val_loss: 0.0028 - val_accuracy: 0.0029\n",
      "Epoch 94/100\n",
      "12/12 [==============================] - 3s 249ms/step - loss: 5.2682e-04 - accuracy: 0.0014 - val_loss: 0.0044 - val_accuracy: 0.0029\n",
      "Epoch 95/100\n",
      "12/12 [==============================] - 3s 270ms/step - loss: 5.2739e-04 - accuracy: 0.0014 - val_loss: 0.0044 - val_accuracy: 0.0029\n",
      "Epoch 96/100\n",
      "12/12 [==============================] - 3s 293ms/step - loss: 5.6855e-04 - accuracy: 0.0014 - val_loss: 0.0051 - val_accuracy: 0.0029\n",
      "Epoch 97/100\n",
      "12/12 [==============================] - 3s 250ms/step - loss: 6.4419e-04 - accuracy: 0.0014 - val_loss: 0.0025 - val_accuracy: 0.0029\n",
      "Epoch 98/100\n",
      "12/12 [==============================] - 3s 249ms/step - loss: 5.5696e-04 - accuracy: 0.0014 - val_loss: 0.0014 - val_accuracy: 0.0029\n",
      "Epoch 99/100\n",
      "12/12 [==============================] - 3s 249ms/step - loss: 5.5541e-04 - accuracy: 0.0014 - val_loss: 0.0016 - val_accuracy: 0.0029\n",
      "Epoch 100/100\n",
      "12/12 [==============================] - 3s 264ms/step - loss: 5.3892e-04 - accuracy: 0.0014 - val_loss: 0.0029 - val_accuracy: 0.0029\n"
     ]
    },
    {
     "data": {
      "text/plain": [
       "<keras.callbacks.History at 0x1b136694a90>"
      ]
     },
     "execution_count": 102,
     "metadata": {},
     "output_type": "execute_result"
    }
   ],
   "source": [
    "model.fit(X_train,y_train,validation_data=(X_test,y_test),epochs=100,batch_size=64,verbose=1)"
   ]
  },
  {
   "cell_type": "code",
   "execution_count": null,
   "id": "d26dc486",
   "metadata": {},
   "outputs": [],
   "source": []
  }
 ],
 "metadata": {
  "kernelspec": {
   "display_name": "Python 3 (ipykernel)",
   "language": "python",
   "name": "python3"
  },
  "language_info": {
   "codemirror_mode": {
    "name": "ipython",
    "version": 3
   },
   "file_extension": ".py",
   "mimetype": "text/x-python",
   "name": "python",
   "nbconvert_exporter": "python",
   "pygments_lexer": "ipython3",
   "version": "3.9.7"
  }
 },
 "nbformat": 4,
 "nbformat_minor": 5
}
